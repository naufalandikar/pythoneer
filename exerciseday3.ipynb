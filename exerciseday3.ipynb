{
 "cells": [
  {
   "cell_type": "markdown",
   "metadata": {},
   "source": [
    "# Nama  : Naufal Andika Ramadhan  \n",
    "# Batch : HCK-012"
   ]
  },
  {
   "cell_type": "markdown",
   "metadata": {},
   "source": [
    "## Task 1\n",
    "Expected Output:   \n",
    "  \n",
    "1  \n",
    "22  \n",
    "333  \n",
    "4444  \n",
    "55555  \n",
    "666666  \n",
    "7777777  \n",
    "88888888  \n",
    "999999999  \n"
   ]
  },
  {
   "cell_type": "code",
   "execution_count": 6,
   "metadata": {},
   "outputs": [
    {
     "name": "stdout",
     "output_type": "stream",
     "text": [
      "1\n",
      "22\n",
      "333\n",
      "4444\n",
      "55555\n",
      "666666\n",
      "7777777\n",
      "88888888\n",
      "999999999\n"
     ]
    }
   ],
   "source": [
    "for row in [1,2,3,4,5,6,7,8,9]:\n",
    "    for col in range(row):\n",
    "        print(row, end='')\n",
    "    print()"
   ]
  },
  {
   "cell_type": "markdown",
   "metadata": {},
   "source": [
    "## Task 2\n",
    "Write a Python program to check the validity of passwords input by users.  \n",
    "Validation :   \n",
    "●At least 1 letter between [a-z] and 1 letter between [A-Z].  \n",
    "●At least 1 number between [0-9].  \n",
    "●At least 1 character from [$#@].  \n",
    "●Minimum length 6 characters.  \n",
    "●Maximum length 16 characters.\n"
   ]
  },
  {
   "cell_type": "code",
   "execution_count": 6,
   "metadata": {},
   "outputs": [
    {
     "name": "stdout",
     "output_type": "stream",
     "text": [
      "Password is valid!\n"
     ]
    }
   ],
   "source": [
    "import re\n",
    "\n",
    "password = input('input your password')\n",
    "checking = True\n",
    "\n",
    "while checking:\n",
    "    if(len(password) < 6 or len(password) > 16):\n",
    "        break\n",
    "    elif not re.search('[a-z]', password):\n",
    "        break\n",
    "    elif not re.search('[A-Z]', password):\n",
    "        break\n",
    "    elif not re.search('[0-9]', password):\n",
    "        break\n",
    "    elif not re.search('[$#@]', password):\n",
    "        break\n",
    "    else:\n",
    "        print(\"Password is valid!\")\n",
    "        checking = False\n",
    "        break\n",
    "\n",
    "if checking:\n",
    "    print(\"Password is not valid!\")\n",
    "\n",
    "\n"
   ]
  }
 ],
 "metadata": {
  "kernelspec": {
   "display_name": "Python 3",
   "language": "python",
   "name": "python3"
  },
  "language_info": {
   "codemirror_mode": {
    "name": "ipython",
    "version": 3
   },
   "file_extension": ".py",
   "mimetype": "text/x-python",
   "name": "python",
   "nbconvert_exporter": "python",
   "pygments_lexer": "ipython3",
   "version": "3.11.5"
  }
 },
 "nbformat": 4,
 "nbformat_minor": 2
}
