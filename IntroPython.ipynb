{
  "cells": [
    {
      "cell_type": "markdown",
      "metadata": {
        "id": "0gYOHY9DFk4B"
      },
      "source": [
        "# Introduction to Python\n",
        "\n",
        "- Variable\n",
        "- Data Type Primary\n",
        "  - Number\n",
        "    - Integer\n",
        "    - Float\n",
        "  - String\n",
        "  - Boolean\n",
        "- Data Type Array (Collections of Data)\n",
        "  - List\n",
        "  - Tuple\n",
        "  - Dictionary\n",
        "  - Set\n",
        "- Operation\n"
      ]
    },
    {
      "cell_type": "markdown",
      "metadata": {
        "id": "hOxhspEjsMB3"
      },
      "source": [
        "---\n",
        "\n",
        "Nama :  Naufal Andika Ramadhan  \n",
        "Batch : HCK-012\n",
        "\n",
        "---"
      ]
    },
    {
      "cell_type": "code",
      "execution_count": 1,
      "metadata": {
        "colab": {
          "base_uri": "https://localhost:8080/"
        },
        "id": "GDFs8DJ5r3J7",
        "outputId": "68a6a7c8-01a2-48ad-fc45-2397013030a9"
      },
      "outputs": [
        {
          "name": "stdout",
          "output_type": "stream",
          "text": [
            "TEST\n"
          ]
        }
      ],
      "source": [
        "# Run this block code\n",
        "print(\"TEST\")\n",
        "\n",
        "# ctrl + / (command untuk jadiin read only)\n",
        "\n",
        "# print(\"WORLD\")"
      ]
    },
    {
      "cell_type": "markdown",
      "metadata": {
        "id": "dLKmJt2KJNDu"
      },
      "source": [
        "# Variable\n",
        "\n",
        "Rules dari membuat nama variable:\n",
        "- Dimulai dengan huruf\n",
        "- Perhatikan plural / singular jika dalam bahasa inggris\n",
        "- bisa camelCase, PascalCase, snake_case tidak kebab-case.\n",
        "\n",
        "\n",
        "Buatlah 3 variable yaitu:\n",
        "- variable name dan isi dengan namamu\n",
        "- variable favoriteNumber isi dengan angka kesukaanmu\n",
        "- variable isHungry dan isi True jika kamu lapar dann False jika kamu tidak lapar"
      ]
    },
    {
      "cell_type": "code",
      "execution_count": 8,
      "metadata": {
        "id": "vH5lUI0kqAxa"
      },
      "outputs": [],
      "source": [
        "# Code dibawah ini\n",
        "name = \"Naufal\"\n",
        "favoriteNumber = 7\n",
        "isHungry = False"
      ]
    },
    {
      "cell_type": "markdown",
      "metadata": {
        "id": "LP6QVd2HqZiR"
      },
      "source": [
        "# Data Type Primary"
      ]
    },
    {
      "cell_type": "markdown",
      "metadata": {
        "id": "ria_IrJ1qRpl"
      },
      "source": [
        "## Data Type Number\n",
        "\n",
        "Terdapat Integer (Bilangan Bulat) dan Float (Decimal)"
      ]
    },
    {
      "cell_type": "code",
      "execution_count": 19,
      "metadata": {
        "id": "Yc19bHtfqQ-9"
      },
      "outputs": [
        {
          "name": "stdout",
          "output_type": "stream",
          "text": [
            "49.5\n",
            "<class 'float'>\n",
            "False\n",
            "55\n",
            "====================\n",
            "49.5\n",
            "3.1\n"
          ]
        }
      ],
      "source": [
        "# Latihan kode disini (Ikuti dalam kelas)\n",
        "print(favoriteNumber)\n",
        "print(type(favoriteNumber))\n",
        "print(favoriteNumber == 100) # == equal >, more than, < less than, ! is not equal\n",
        "\n",
        "favoriteNumber = 50 #Reassignment\n",
        "favoriteNumber += 5\n",
        "print (favoriteNumber)\n",
        "\n",
        "print (\"====================\")\n",
        "# favoriteNumber dikurangi 10%\n",
        "favoriteNumber = favoriteNumber - (favoriteNumber / 10)\n",
        "print (favoriteNumber)\n",
        "\n",
        "phi = 3.14\n",
        "print(round(phi, 1))"
      ]
    },
    {
      "cell_type": "markdown",
      "metadata": {
        "id": "kN7khB5IqC7K"
      },
      "source": [
        "## Data Type String\n",
        "\n",
        "Peruntukannya untuk text dapat menggunakan kutip 1 atau 2 ' \""
      ]
    },
    {
      "cell_type": "code",
      "execution_count": 48,
      "metadata": {
        "id": "JErM3SdVFh9H"
      },
      "outputs": [
        {
          "name": "stdout",
          "output_type": "stream",
          "text": [
            "Naufal\n",
            "<class 'str'>\n",
            "6\n",
            "Naufal Andika\n",
            "N\n",
            "13\n",
            "N\n",
            "a\n"
          ]
        }
      ],
      "source": [
        "# Latihan kode disini (Ikuti dalam kelas)\n",
        "name = 'Naufal'\n",
        "print(name)\n",
        "print(type(name))\n",
        "print(len(name))\n",
        "\n",
        "# name += str(4) ini kalau mau ditambah nomor setelah string\n",
        "name += ' Andika'\n",
        "print(name)\n",
        "print(name[0])\n",
        "\n",
        "# len itu untuk hitung total character \n",
        "# Coba tambahkan len dengan ada spasi \n",
        "print(len(name))\n",
        "\n",
        "# Coba akses character pertama dan kedua \n",
        "print(name[0])\n",
        "print(name[1])"
      ]
    },
    {
      "cell_type": "code",
      "execution_count": 44,
      "metadata": {},
      "outputs": [
        {
          "name": "stdout",
          "output_type": "stream",
          "text": [
            "8\n"
          ]
        }
      ],
      "source": [
        "# Ada 2 nama boy dan girl hitung total 2 2nya (len)\n",
        "boy = \"adam\"\n",
        "girl = \"hawa\"\n",
        "\n",
        "gabungan = (boy + girl)\n",
        "print (len(gabungan))"
      ]
    },
    {
      "cell_type": "markdown",
      "metadata": {},
      "source": [
        "Case sensitive"
      ]
    },
    {
      "cell_type": "code",
      "execution_count": 42,
      "metadata": {},
      "outputs": [
        {
          "name": "stdout",
          "output_type": "stream",
          "text": [
            "False\n"
          ]
        }
      ],
      "source": [
        "print(1 == '1')\n",
        "print"
      ]
    },
    {
      "cell_type": "markdown",
      "metadata": {
        "id": "Wi4SejTIqb7o"
      },
      "source": [
        "## Data Type Boolean\n",
        "\n",
        "Yaitu True dan False"
      ]
    },
    {
      "cell_type": "code",
      "execution_count": 46,
      "metadata": {
        "id": "reRugMYIqhQ0"
      },
      "outputs": [
        {
          "name": "stdout",
          "output_type": "stream",
          "text": [
            "False\n",
            "<class 'bool'>\n"
          ]
        }
      ],
      "source": [
        "# Latihan kode disini (Ikuti dalam kelas)\n",
        "print(isHungry)\n",
        "print(type(isHungry))"
      ]
    },
    {
      "cell_type": "code",
      "execution_count": 50,
      "metadata": {},
      "outputs": [
        {
          "name": "stdout",
          "output_type": "stream",
          "text": [
            "Naufal Andika False 49.5\n",
            "Nama saya Naufal Andika, angka kesukaanku 49.5. Status laparku False\n"
          ]
        }
      ],
      "source": [
        "print(name, isHungry, favoriteNumber)\n",
        "print(f\"Nama saya {name}, angka kesukaanku {favoriteNumber}. Status laparku {isHungry}\")"
      ]
    },
    {
      "cell_type": "markdown",
      "metadata": {
        "id": "jnEuh5gQqkzn"
      },
      "source": [
        "# Data Type Array / Data Type For Collections of Data\n",
        "\n",
        "Kalo w3school menyebutkannya sebagai [Python Collections (Arrays)](https://www.w3schools.com/python/python_lists.asp#:~:text=Python%20Collections%20(Arrays)).\n",
        "\n",
        "----- note disini latihan menggunakaan markdown text yaa..\n",
        "\n"
      ]
    },
    {
      "cell_type": "markdown",
      "metadata": {},
      "source": [
        "## List []"
      ]
    },
    {
      "cell_type": "code",
      "execution_count": 58,
      "metadata": {},
      "outputs": [
        {
          "name": "stdout",
          "output_type": "stream",
          "text": [
            "['Bita', 'Nicku', 'Ogi', 'Naufal']\n",
            "<class 'list'>\n",
            "Naufal\n",
            "4\n",
            "['Bita', 'Ogi', 'Naufal', 'Panji']\n",
            "Panji\n"
          ]
        }
      ],
      "source": [
        "names = [\"Bita\", \"Nicku\", \"Ogi\", \"Naufal\"]\n",
        "print(names)\n",
        "print(type(names))\n",
        "print(names[3])\n",
        "# Jumlah value dalam list \n",
        "print(len (names))\n",
        "# menghapus dan menambahkan dalam list \n",
        "names.remove(\"Nicku\")\n",
        "names.append(\"Panji\")\n",
        "print(names)\n",
        "# manggil nama yang terakhir \n",
        "print(names[-1])"
      ]
    },
    {
      "cell_type": "code",
      "execution_count": 61,
      "metadata": {},
      "outputs": [
        {
          "name": "stdout",
          "output_type": "stream",
          "text": [
            "[2000, 100, 3000, 5000, 50]\n",
            "[50, 100, 2000, 3000, 5000]\n",
            "[5000, 3000, 2000, 100, 50]\n"
          ]
        }
      ],
      "source": [
        "numbers = [2000, 100, 3000, 5000, 50]\n",
        "print(numbers)\n",
        "# Defaultnya Ascending \n",
        "numbers.sort()\n",
        "print(numbers)\n",
        "# kalo mau descending\n",
        "numbers.sort(reverse=True)\n",
        "print(numbers)"
      ]
    },
    {
      "cell_type": "markdown",
      "metadata": {},
      "source": [
        "### Pass Reference"
      ]
    },
    {
      "cell_type": "code",
      "execution_count": 63,
      "metadata": {},
      "outputs": [
        {
          "name": "stdout",
          "output_type": "stream",
          "text": [
            "['Sushi', 'Coklat', 'Kopi', 'Yakult']\n",
            "['Sushi', 'Coklat', 'Kopi', 'Yakult']\n"
          ]
        }
      ],
      "source": [
        "listMakanan = [\"Sushi\", \"Coklat\", \"Kopi\"]\n",
        "listMakananFavorite = listMakanan\n",
        "listMakananFavorite.append(\"Yakult\")\n",
        "# keduanya berubah \n",
        "print(listMakananFavorite)\n",
        "print(listMakanan)"
      ]
    },
    {
      "cell_type": "markdown",
      "metadata": {},
      "source": [
        "### Cara handle pass reference"
      ]
    },
    {
      "cell_type": "code",
      "execution_count": 66,
      "metadata": {},
      "outputs": [
        {
          "name": "stdout",
          "output_type": "stream",
          "text": [
            "['Sushi', 'Coklat', 'Kopi', 'Yakult']\n",
            "['Sushi', 'Coklat', 'Kopi', 'Yakult', 'Susu']\n"
          ]
        }
      ],
      "source": [
        "# dikasih function copy \n",
        "listMakananFavorite = listMakanan.copy()\n",
        "listMakananFavorite.append(\"Susu\")\n",
        "print(listMakanan)\n",
        "print(listMakananFavorite)"
      ]
    },
    {
      "cell_type": "code",
      "execution_count": 69,
      "metadata": {},
      "outputs": [
        {
          "name": "stdout",
          "output_type": "stream",
          "text": [
            "['Sushi', 'Coklat', 'Kopi', 'Yakult', 'Susu']\n",
            "['Coklat', 'Kopi']\n",
            "['Sushi', 'Coklat', 'Kopi']\n"
          ]
        }
      ],
      "source": [
        "print(listMakananFavorite)\n",
        "print(listMakananFavorite[1:3])\n",
        "print(listMakananFavorite[:3])"
      ]
    },
    {
      "cell_type": "markdown",
      "metadata": {},
      "source": [
        "# Tuple ()"
      ]
    },
    {
      "cell_type": "code",
      "execution_count": 71,
      "metadata": {},
      "outputs": [
        {
          "name": "stdout",
          "output_type": "stream",
          "text": [
            "('Ayu', 'Yuda', 'Riki', 'Sapta', 'Ayu')\n"
          ]
        }
      ],
      "source": [
        "listInstructor = (\"Ayu\", \"Yuda\", \"Riki\", \"Sapta\", \"Ayu\")\n",
        "print(listInstructor)\n",
        "\n",
        "# sama seperti list tapi tidak bisa di ubah "
      ]
    },
    {
      "cell_type": "markdown",
      "metadata": {},
      "source": [
        "# Set {}"
      ]
    },
    {
      "cell_type": "code",
      "execution_count": 73,
      "metadata": {},
      "outputs": [
        {
          "name": "stdout",
          "output_type": "stream",
          "text": [
            "{'Riki', 'Sapta', 'Ayu', 'Yuda'}\n"
          ]
        }
      ],
      "source": [
        "listInstructor = set(listInstructor)\n",
        "print(listInstructor)\n",
        "#set tidak menerima duplicate"
      ]
    },
    {
      "cell_type": "markdown",
      "metadata": {},
      "source": [
        "# Dictionary {}\n",
        "keyname : value"
      ]
    },
    {
      "cell_type": "code",
      "execution_count": 84,
      "metadata": {},
      "outputs": [
        {
          "name": "stdout",
          "output_type": "stream",
          "text": [
            "{'name': 'Oju', 'age': 2, 'weight': 5.5, 'height': 50}\n",
            "4\n",
            "Oju\n",
            "{'name': 'Oju', 'age': 2, 'weight': 5.5, 'height': 50, 'isVaccined': True}\n",
            "{'name': 'Joji', 'age': 2, 'weight': 5.5, 'height': 50, 'isVaccined': True}\n"
          ]
        }
      ],
      "source": [
        "persianCat = {\n",
        "    'name' : 'Oju',\n",
        "    'age' : 2,\n",
        "    'weight' : 5.5,\n",
        "    'height' : 50\n",
        "}\n",
        "print(persianCat)\n",
        "print(len(persianCat))\n",
        "\n",
        "# akses value dengan keyname (bukan index)\n",
        "print(persianCat['name'])\n",
        "\n",
        "# menambahkan keyname dan value baru \n",
        "persianCat['isVaccined'] = True\n",
        "print(persianCat)\n",
        "\n",
        "# mengganti value \n",
        "persianCat['name'] = 'Joji'\n",
        "print(persianCat)"
      ]
    },
    {
      "cell_type": "markdown",
      "metadata": {},
      "source": [
        "# Excercise"
      ]
    },
    {
      "cell_type": "code",
      "execution_count": 97,
      "metadata": {},
      "outputs": [
        {
          "name": "stdout",
          "output_type": "stream",
          "text": [
            "5\n",
            "Revo Ayu\n",
            "[100, 100, 90, 70, 95]\n",
            "100\n",
            "70\n"
          ]
        }
      ],
      "source": [
        "listAlphabet = [\n",
        "    [0, 'Ayu', 'Bita', 'Cinta'],\n",
        "    [1, 'Dian', 'Ersa', 'Fanta'],\n",
        "    [2, 'G', 'H', 'I']\n",
        "]\n",
        "\n",
        "print(len(listAlphabet[1][-1]))\n",
        "\n",
        "listHck12 = {\n",
        "    \"students\" : ['Bita', 'Revo', 'Nicku', 'Samuel', 'Panji'],\n",
        "    \"buddy\" : ['Ayu', 'Ayu', 'Ayu', 'Sapta', 'Sapta'],\n",
        "    \"scores\" : [100, 100, 90, 70, 95]\n",
        "}\n",
        "print(listHck12['students'][1], listHck12['buddy'][1])\n",
        "print(listHck12['scores'])\n",
        "print(max((listHck12)[\"scores\"]))\n",
        "print(min((listHck12)[\"scores\"]))"
      ]
    }
  ],
  "metadata": {
    "colab": {
      "provenance": []
    },
    "kernelspec": {
      "display_name": "Python 3",
      "name": "python3"
    },
    "language_info": {
      "codemirror_mode": {
        "name": "ipython",
        "version": 3
      },
      "file_extension": ".py",
      "mimetype": "text/x-python",
      "name": "python",
      "nbconvert_exporter": "python",
      "pygments_lexer": "ipython3",
      "version": "3.11.5"
    }
  },
  "nbformat": 4,
  "nbformat_minor": 0
}
